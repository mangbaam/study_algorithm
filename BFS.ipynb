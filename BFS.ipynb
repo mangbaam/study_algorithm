{
 "cells": [
  {
   "cell_type": "code",
   "execution_count": 3,
   "id": "loved-novel",
   "metadata": {},
   "outputs": [
    {
     "name": "stdout",
     "output_type": "stream",
     "text": [
      "1\n",
      "2\n",
      "5\n",
      "3\n",
      "4\n",
      "7\n",
      "6\n",
      "8\n"
     ]
    }
   ],
   "source": [
    "#graph = [[], [2, 3, 4], [5], [6], [6], [6], [7], []]\n",
    "graph = [[], [2, 5], [3, 4, 7], [6], [], [7], [], [6, 8], []]\n",
    "\n",
    "def bfs(start):\n",
    "    chk = [False] * 1010\n",
    "    q = []\n",
    "    \n",
    "    q.append(start)\n",
    "    chk[start] = True\n",
    "    \n",
    "    while len(q):\n",
    "        cur = q[0]\n",
    "        q = q[1:] # q.pop()\n",
    "        print(cur)\n",
    "        for i in graph[cur]:\n",
    "            if chk[i] is False:\n",
    "                chk[i] = True\n",
    "                q.append(i)\n",
    "\n",
    "bfs(1)"
   ]
  }
 ],
 "metadata": {
  "kernelspec": {
   "display_name": "Python 3",
   "language": "python",
   "name": "python3"
  },
  "language_info": {
   "codemirror_mode": {
    "name": "ipython",
    "version": 3
   },
   "file_extension": ".py",
   "mimetype": "text/x-python",
   "name": "python",
   "nbconvert_exporter": "python",
   "pygments_lexer": "ipython3",
   "version": "3.8.5"
  }
 },
 "nbformat": 4,
 "nbformat_minor": 5
}
