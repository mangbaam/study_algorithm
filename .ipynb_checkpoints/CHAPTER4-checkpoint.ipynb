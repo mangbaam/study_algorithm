{
 "cells": [
  {
   "cell_type": "markdown",
   "id": "talented-findings",
   "metadata": {},
   "source": [
    "### 4-1 상하좌우"
   ]
  },
  {
   "cell_type": "code",
   "execution_count": 2,
   "id": "finnish-earthquake",
   "metadata": {},
   "outputs": [
    {
     "name": "stdout",
     "output_type": "stream",
     "text": [
      "5\n",
      "R R R U D\n",
      "x: 2 y: 4\n"
     ]
    }
   ],
   "source": [
    "n = int(input())\n",
    "x, y = 1, 1\n",
    "plans = input().split()\n",
    "\n",
    "      # L R U D\n",
    "dx = [0, 0, -1, 1]\n",
    "dy = [-1, 1, 0, 0]\n",
    "type = ['L', 'R', 'U', 'D']\n",
    "\n",
    "for plan in plans:\n",
    "    for i in range(len(type)):\n",
    "        if plan == type[i]:\n",
    "            nx = x + dx[i]\n",
    "            ny = y + dy[i]\n",
    "    if nx > n or ny > n or nx < 1 or ny < 1:\n",
    "        continue\n",
    "    x, y = nx, ny\n",
    "        \n",
    "print(\"x:\", x, \"y:\", y)"
   ]
  },
  {
   "cell_type": "markdown",
   "id": "collaborative-librarian",
   "metadata": {},
   "source": [
    "### 4-2 시각"
   ]
  },
  {
   "cell_type": "code",
   "execution_count": 3,
   "id": "exposed-lunch",
   "metadata": {},
   "outputs": [
    {
     "name": "stdout",
     "output_type": "stream",
     "text": [
      "10\n",
      "19350\n"
     ]
    }
   ],
   "source": [
    "h = int(input())\n",
    "\n",
    "count = 0\n",
    "for i in range(h + 1):\n",
    "    for j in range(60):\n",
    "        for k in range(60):\n",
    "            if '3' in str(i) + str(j) + str(k):\n",
    "                count += 1\n",
    "                \n",
    "print(count)"
   ]
  },
  {
   "cell_type": "markdown",
   "id": "superb-westminster",
   "metadata": {},
   "source": [
    "### 실전문제 - 왕실의 나이트"
   ]
  },
  {
   "cell_type": "code",
   "execution_count": 4,
   "id": "inside-arcade",
   "metadata": {
    "scrolled": true
   },
   "outputs": [
    {
     "name": "stdout",
     "output_type": "stream",
     "text": [
      "a1\n",
      "2\n"
     ]
    }
   ],
   "source": [
    "count = 8\n",
    "loc = input()\n",
    "if loc[0] < 'c' or loc[0] > 'f':\n",
    "    count -= 2\n",
    "if int(loc[1]) < 3 or int(loc[1]) > 6:\n",
    "    count -= 2\n",
    "if loc[0] == 'a' or loc[0] == 'h':\n",
    "    count -= 1\n",
    "if int(loc[1]) == 1 or int(loc[1]) == 8:\n",
    "    count -= 1\n",
    "print(count)"
   ]
  },
  {
   "cell_type": "markdown",
   "id": "collaborative-being",
   "metadata": {},
   "source": [
    "모범답안"
   ]
  },
  {
   "cell_type": "code",
   "execution_count": null,
   "id": "vocational-picture",
   "metadata": {},
   "outputs": [],
   "source": [
    "# 현재 나이트의 위치 입력받기\n",
    "input_data = input()\n",
    "row = int(input_data[1])\n",
    "column = int(ord(input_data[0])) - int(ord('a')) + 1\n",
    "\n",
    "# 나이트가 이동할 수 있는 8가지 방향 정의\n",
    "steps = [(-2, -1), (-1, -2), (1, -2), (2, -1), (2, 1), (1, 2), (-1, 2), (-2, 1)]\n",
    "\n",
    "# 8가지 방향에 대하여 각 위치로 이동이 가능한지 확인\n",
    "result = 0\n",
    "for step in steps:\n",
    "    # 이동하고자 하는 위치 확인\n",
    "    next_row = row + step[0]\n",
    "    next_column = column + step[1]\n",
    "    # 해당 위치로 이동이 가능하다면 카운트 증가\n",
    "    if next_row >= 1 and next_row <= 8 and next_column >= 1 and next_column <= 8:\n",
    "        result += 1\n",
    "        \n",
    "print(result)"
   ]
  },
  {
   "cell_type": "markdown",
   "id": "effective-jesus",
   "metadata": {},
   "source": [
    "### 실전문제 - 게임 개발"
   ]
  },
  {
   "cell_type": "code",
   "execution_count": 11,
   "id": "recognized-sensitivity",
   "metadata": {},
   "outputs": [
    {
     "name": "stdout",
     "output_type": "stream",
     "text": [
      "4 4\n",
      "1 1 0\n",
      "1 1 1 1\n",
      "1 0 0 1\n",
      "1 1 0 1\n",
      "1 1 1 1\n",
      "방향:  1\n",
      "방향:  2\n",
      "방향:  3\n",
      "x:  1 y:  2 d:  3\n",
      "방향:  0\n",
      "방향:  1\n",
      "방향:  2\n",
      "x:  2 y:  2 d:  2\n",
      "방향:  3\n",
      "방향:  0\n",
      "방향:  1\n",
      "방향:  2\n",
      "2\n"
     ]
    }
   ],
   "source": [
    "n, m = map(int, input().split()) # n: 세로(행), m : 가로(열)\n",
    "# di -> 0:북, 1: 동, 2: 남, 3: 서\n",
    "x, y, di = map(int, input().split())\n",
    "# 방문 위치\n",
    "d = [[0]*m for _ in range(n)]\n",
    "d[x][y] = 1 # 현재 좌표\n",
    "gameMap = []\n",
    "for i in range(n):\n",
    "    gameMap.append(list(map(int, input().split())))\n",
    "# 북(-1, 0) 서(0, -1) 남(1, 0) 동(0, 1)\n",
    "dx = [-1, 0, 1, 0]\n",
    "dy = [0, -1, 0, 1]\n",
    "\n",
    "count = 0\n",
    "while True:\n",
    "    c = count\n",
    "    for _ in range(4):\n",
    "        di = (di + 1) % 4\n",
    "        nx = x + dx[di]\n",
    "        ny = y + dy[di]\n",
    "        if gameMap[nx][ny] == 0 and d[nx][ny] == 0:\n",
    "            d[nx][ny] = 1\n",
    "            x, y = nx, ny\n",
    "            print(\"x: \", x, \"y: \", y, \"d: \", di)\n",
    "            count += 1\n",
    "            break\n",
    "    if c == count:\n",
    "        break\n",
    "    \n",
    "print(count)"
   ]
  },
  {
   "cell_type": "code",
   "execution_count": 2,
   "id": "general-longitude",
   "metadata": {},
   "outputs": [
    {
     "name": "stdout",
     "output_type": "stream",
     "text": [
      "4 4\n",
      "1 1 0\n",
      "1 1 1 1\n",
      "1 0 0 1\n",
      "1 1 0 1\n",
      "1 1 1 1\n",
      "3\n"
     ]
    }
   ],
   "source": [
    "# N, M을 공백으로 구분하여 입력받기\n",
    "n, m = map(int, input().split())\n",
    "\n",
    "# 방문한 위치를 저장하기 위한 맵을 생성하여 0으로 초기화\n",
    "d = [[0]*m for _ in range(n)]\n",
    "# 현재 캐릭터의 X 좌표, Y 좌표, 방향을 입력받기\n",
    "x, y, direction = map(int, input().split())\n",
    "d[x][y] = 1 # 현재 좌표 방문 처리\n",
    "\n",
    "# 전체 맵 정보를 입력받기\n",
    "array = []\n",
    "for i in range(n):\n",
    "    array.append(list(map(int, input().split())))\n",
    "    \n",
    "# 북, 동, 남, 서 방향 정의\n",
    "dx = [-1, 0, 1, 0]\n",
    "dy = [0, 1, 0, -1]\n",
    "\n",
    "# 왼쪽으로 회전\n",
    "def turn_left():\n",
    "    global direction\n",
    "    direction -= 1\n",
    "    if direction == -1:\n",
    "        direction = 3\n",
    "        \n",
    "# 시뮬레이션 시작\n",
    "count = 1\n",
    "turn_time = 0\n",
    "while True:\n",
    "    # 왼쪽으로 회전\n",
    "    turn_left()\n",
    "    nx = x + dx[direction]\n",
    "    ny = y + dy[direction]\n",
    "    # 회전한 이후 정면에 가보지 않은 칸이 존재하는 경우 이동\n",
    "    if d[nx][ny] == 0 and array[nx][ny] == 0:\n",
    "        d[nx][ny] = 1\n",
    "        x, y = nx, ny\n",
    "        count += 1\n",
    "        turn_time = 0\n",
    "        continue\n",
    "    # 회전한 이후 정면에 가보지 않은 칸이 없거나 바다인 경우\n",
    "    else :\n",
    "        turn_time += 1\n",
    "    # 네 방향 모두 갈 수 없는 경우\n",
    "    if turn_time == 4:\n",
    "        nx = x - dx[direction]\n",
    "        ny = y - dy[direction]\n",
    "        # 뒤로 갈 수 있다면 이동하기\n",
    "        if array[nx][ny] == 0:\n",
    "            x, y = nx, ny\n",
    "        # 뒤가 바다로 막혀있는 경우\n",
    "        else:\n",
    "            break\n",
    "        turn_time = 0\n",
    "\n",
    "        \n",
    "# 정답 출력\n",
    "print(count)"
   ]
  },
  {
   "cell_type": "code",
   "execution_count": null,
   "id": "conventional-rebate",
   "metadata": {},
   "outputs": [],
   "source": []
  }
 ],
 "metadata": {
  "kernelspec": {
   "display_name": "Python 3",
   "language": "python",
   "name": "python3"
  },
  "language_info": {
   "codemirror_mode": {
    "name": "ipython",
    "version": 3
   },
   "file_extension": ".py",
   "mimetype": "text/x-python",
   "name": "python",
   "nbconvert_exporter": "python",
   "pygments_lexer": "ipython3",
   "version": "3.8.5"
  }
 },
 "nbformat": 4,
 "nbformat_minor": 5
}
