{
 "cells": [
  {
   "cell_type": "markdown",
   "id": "naked-father",
   "metadata": {},
   "source": [
    "## 하향식 방법"
   ]
  },
  {
   "cell_type": "code",
   "execution_count": 17,
   "id": "damaged-wound",
   "metadata": {},
   "outputs": [
    {
     "data": {
      "text/plain": [
       "[1, 1, 2, 3, 5, 8, 13, 21, 34, 55, 89]"
      ]
     },
     "execution_count": 17,
     "metadata": {},
     "output_type": "execute_result"
    }
   ],
   "source": [
    "result = [0] * 101010 # 피보나치 결과 값 저장 리스트\n",
    "\n",
    "def fibo(n):\n",
    "    if n <= 1: # 탈출 조건\n",
    "        result[n] = 1\n",
    "        return 1\n",
    "    res = result[n]\n",
    "    if res != 0:    # 이미 계산된 값은 저장해놓고 재활용 (메모이제이션)\n",
    "        return res\n",
    "    result[n] = fibo(n-1) + fibo(n-2) # 재귀 호출\n",
    "    return result[n]\n",
    "\n",
    "n = 10 # 찾고자 하는 fibo(n) 수\n",
    "\n",
    "fibo(n)\n",
    "result[:n + 1]"
   ]
  },
  {
   "cell_type": "markdown",
   "id": "external-westminster",
   "metadata": {},
   "source": [
    "## 상향식 방법"
   ]
  },
  {
   "cell_type": "code",
   "execution_count": 19,
   "id": "canadian-fabric",
   "metadata": {},
   "outputs": [
    {
     "data": {
      "text/plain": [
       "[1, 1, 2, 3, 5, 8, 13, 21, 34, 55, 89]"
      ]
     },
     "execution_count": 19,
     "metadata": {},
     "output_type": "execute_result"
    }
   ],
   "source": [
    "result = [1, 1]\n",
    "\n",
    "def fibo(n):\n",
    "    for i in range(2, n + 1):\n",
    "        result.append(result[i-1] + result[i-2])\n",
    "\n",
    "n = 10 # 찾고자 하는 fibo(n) 수\n",
    "\n",
    "fibo(n)\n",
    "result[:n + 1]"
   ]
  },
  {
   "cell_type": "code",
   "execution_count": null,
   "id": "collectible-revelation",
   "metadata": {},
   "outputs": [],
   "source": []
  }
 ],
 "metadata": {
  "kernelspec": {
   "display_name": "Python 3",
   "language": "python",
   "name": "python3"
  },
  "language_info": {
   "codemirror_mode": {
    "name": "ipython",
    "version": 3
   },
   "file_extension": ".py",
   "mimetype": "text/x-python",
   "name": "python",
   "nbconvert_exporter": "python",
   "pygments_lexer": "ipython3",
   "version": "3.8.5"
  }
 },
 "nbformat": 4,
 "nbformat_minor": 5
}
