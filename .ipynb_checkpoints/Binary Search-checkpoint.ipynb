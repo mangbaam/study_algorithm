{
 "cells": [
  {
   "cell_type": "code",
   "execution_count": 3,
   "id": "blocked-listening",
   "metadata": {},
   "outputs": [
    {
     "name": "stdout",
     "output_type": "stream",
     "text": [
      "None\n"
     ]
    }
   ],
   "source": [
    "arr = [1, 3, 5, 6, 11, 12, 15, 17, 19, 20]\n",
    "\n",
    "def binarySearch(find, arr):\n",
    "    l, r = 0, len(arr) - 1\n",
    "    while l <= r:\n",
    "        mid = (l + r) // 2\n",
    "        if arr[mid] == find:\n",
    "            return mid\n",
    "        elif arr[mid] < find:\n",
    "            l = mid + 1\n",
    "        else:\n",
    "            r = mid - 1\n",
    "\n",
    "\n",
    "print(binarySearch(13, arr))"
   ]
  },
  {
   "cell_type": "code",
   "execution_count": null,
   "id": "compound-debate",
   "metadata": {},
   "outputs": [],
   "source": []
  }
 ],
 "metadata": {
  "kernelspec": {
   "display_name": "Python 3",
   "language": "python",
   "name": "python3"
  },
  "language_info": {
   "codemirror_mode": {
    "name": "ipython",
    "version": 3
   },
   "file_extension": ".py",
   "mimetype": "text/x-python",
   "name": "python",
   "nbconvert_exporter": "python",
   "pygments_lexer": "ipython3",
   "version": "3.8.5"
  }
 },
 "nbformat": 4,
 "nbformat_minor": 5
}
