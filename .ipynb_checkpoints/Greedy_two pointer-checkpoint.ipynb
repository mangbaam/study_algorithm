{
 "cells": [
  {
   "cell_type": "code",
   "execution_count": 5,
   "id": "formal-copyright",
   "metadata": {},
   "outputs": [
    {
     "name": "stdout",
     "output_type": "stream",
     "text": [
      "2 번째 수 ( 5 ) +  10 번째 수 ( 22 )\n",
      "5 번째 수 ( 11 ) +  7 번째 수 ( 16 )\n"
     ]
    }
   ],
   "source": [
    "arr = [3, 9, 25, 22, 1, 6, 5, 11, 19, 28, 17, 12, 16] # 주어진 배열. 중복 수 없음\n",
    "S = 27 # 목표 합계\n",
    "\n",
    "arr.sort()\n",
    "l, r = 0, len(arr) - 1\n",
    "while l <= r:\n",
    "    if arr[l] + arr[r] > S:\n",
    "        r -= 1\n",
    "    elif arr[l] + arr[r] < S:\n",
    "        l += 1\n",
    "    elif arr[l] + arr[r] == S:\n",
    "        print(l, '번째 수 (', arr[l], ') + ', r, '번째 수 (', arr[r], ')')\n",
    "        r -= 1\n",
    "        l += 1"
   ]
  },
  {
   "cell_type": "code",
   "execution_count": null,
   "id": "affiliated-offer",
   "metadata": {},
   "outputs": [],
   "source": []
  }
 ],
 "metadata": {
  "kernelspec": {
   "display_name": "Python 3",
   "language": "python",
   "name": "python3"
  },
  "language_info": {
   "codemirror_mode": {
    "name": "ipython",
    "version": 3
   },
   "file_extension": ".py",
   "mimetype": "text/x-python",
   "name": "python",
   "nbconvert_exporter": "python",
   "pygments_lexer": "ipython3",
   "version": "3.8.5"
  }
 },
 "nbformat": 4,
 "nbformat_minor": 5
}
