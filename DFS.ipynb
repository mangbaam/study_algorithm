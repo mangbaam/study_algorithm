{
 "cells": [
  {
   "cell_type": "code",
   "execution_count": 2,
   "id": "recovered-wound",
   "metadata": {},
   "outputs": [
    {
     "name": "stdout",
     "output_type": "stream",
     "text": [
      "1\n",
      "2\n",
      "3\n",
      "4\n",
      "5\n"
     ]
    }
   ],
   "source": [
    "arr = [[], [2, 3, 4], [1], [4, 5], [3, 5], [3, 4]]\n",
    "chk = [False] * 1010\n",
    "\n",
    "\n",
    "def DFS(start):\n",
    "    if chk[start]: return # 이미 방문한 정점이라면 방문을 종료\n",
    "    chk[start] = True\n",
    "    \n",
    "    print(start)  # 방문 노드 출력\n",
    "    \n",
    "    for i in range(len(arr[start])):\n",
    "        next = arr[start][i]\n",
    "        DFS(next)\n",
    "        \n",
    "DFS(1)"
   ]
  },
  {
   "cell_type": "code",
   "execution_count": 3,
   "id": "seven-praise",
   "metadata": {},
   "outputs": [
    {
     "name": "stdout",
     "output_type": "stream",
     "text": [
      "1\n",
      "2\n",
      "3\n",
      "4\n",
      "5\n"
     ]
    }
   ],
   "source": [
    "arr = [[], [2, 3, 4], [1], [4, 5], [3, 5], [3, 4]]\n",
    "chk = [False] * 1010\n",
    "\n",
    "\n",
    "def DFS(start):\n",
    "    if chk[start]: return # 이미 방문한 정점이라면 방문을 종료\n",
    "    chk[start] = True\n",
    "    \n",
    "    print(start)  # 방문 노드 출력\n",
    "    \n",
    "    for node in arr[start]:\n",
    "        DFS(node)\n",
    "        \n",
    "DFS(1)"
   ]
  },
  {
   "cell_type": "code",
   "execution_count": null,
   "id": "aggressive-reading",
   "metadata": {},
   "outputs": [],
   "source": []
  }
 ],
 "metadata": {
  "kernelspec": {
   "display_name": "Python 3",
   "language": "python",
   "name": "python3"
  },
  "language_info": {
   "codemirror_mode": {
    "name": "ipython",
    "version": 3
   },
   "file_extension": ".py",
   "mimetype": "text/x-python",
   "name": "python",
   "nbconvert_exporter": "python",
   "pygments_lexer": "ipython3",
   "version": "3.8.5"
  }
 },
 "nbformat": 4,
 "nbformat_minor": 5
}
