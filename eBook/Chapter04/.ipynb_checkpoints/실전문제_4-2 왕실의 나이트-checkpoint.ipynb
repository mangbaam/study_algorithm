{
 "cells": [
  {
   "cell_type": "code",
   "execution_count": 10,
   "id": "disciplinary-friend",
   "metadata": {},
   "outputs": [
    {
     "name": "stdout",
     "output_type": "stream",
     "text": [
      "a1\n",
      "2\n"
     ]
    }
   ],
   "source": [
    "loc = list(input())\n",
    "loc[0] = ord(loc[0]) - ord('a') + 1 # a, b, c ... 를 1, 2, 3으로 변경\n",
    "loc[1] = int(loc[1])\n",
    "case = [[2, -1], [2, 1], [-2, -1], [-2, 1], [1, -2], [1, 2], [-1, 2], [-1, -2]]\n",
    "\n",
    "count = 0\n",
    "for c in case:\n",
    "    x = loc[0] + c[0]\n",
    "    y = loc[1] + c[1]\n",
    "    if x > 0 and y > 0 and x <= 8 and y <= 8:\n",
    "        count += 1\n",
    "        \n",
    "print(count)"
   ]
  },
  {
   "cell_type": "markdown",
   "id": "super-promotion",
   "metadata": {},
   "source": [
    "상황 체크에서 x <= 8 and y <= 8 조건을 추가 안했었다.\n",
    "모든 상황에 대해 꼼꼼히 체크할 것!"
   ]
  },
  {
   "cell_type": "markdown",
   "id": "explicit-ordering",
   "metadata": {},
   "source": [
    "## 답안 예시"
   ]
  },
  {
   "cell_type": "code",
   "execution_count": 8,
   "id": "major-corporation",
   "metadata": {},
   "outputs": [
    {
     "name": "stdout",
     "output_type": "stream",
     "text": [
      "a1\n",
      "2\n"
     ]
    }
   ],
   "source": [
    "input_data = input()\n",
    "row = int(input_data[1])\n",
    "column = int(ord(input_data[0])) - int(ord('a')) + 1\n",
    "\n",
    "steps = [(-2, -1), (-1, -2), (1, -2), (2, -1), (2, 1), (1, 2), (-1, 2), (-2, 1)]\n",
    "\n",
    "result = 0\n",
    "for step in steps:\n",
    "    next_row = row + step[0]\n",
    "    next_column = column + step[1]\n",
    "    \n",
    "    if next_row >= 1 and next_row <= 8 and next_column >= 1 and next_column <= 8:\n",
    "        result += 1\n",
    "        \n",
    "print(result)"
   ]
  },
  {
   "cell_type": "code",
   "execution_count": null,
   "id": "intended-annotation",
   "metadata": {},
   "outputs": [],
   "source": []
  }
 ],
 "metadata": {
  "kernelspec": {
   "display_name": "Python 3",
   "language": "python",
   "name": "python3"
  },
  "language_info": {
   "codemirror_mode": {
    "name": "ipython",
    "version": 3
   },
   "file_extension": ".py",
   "mimetype": "text/x-python",
   "name": "python",
   "nbconvert_exporter": "python",
   "pygments_lexer": "ipython3",
   "version": "3.8.5"
  }
 },
 "nbformat": 4,
 "nbformat_minor": 5
}
