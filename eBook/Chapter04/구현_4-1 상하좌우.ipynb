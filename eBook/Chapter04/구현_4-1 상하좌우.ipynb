{
 "cells": [
  {
   "cell_type": "code",
   "execution_count": null,
   "id": "biblical-pakistan",
   "metadata": {},
   "outputs": [],
   "source": [
    "n = int(input())\n",
    "cmd = list(input().split())\n",
    "\n",
    "        # U, D, L, R\n",
    "x_aias = [-1, 1, 0, 0]\n",
    "y_aias = [0, 0, -1, 1]\n",
    "\n",
    "cur_loc = [1, 1]\n",
    "\n",
    "for go in cmd:\n",
    "    pre_loc = cur_loc[:]\n",
    "    if go == 'U':\n",
    "        dir = 0\n",
    "    elif go == 'D':\n",
    "        dir = 1\n",
    "    elif go == 'L':\n",
    "        dir = 2\n",
    "    elif go == 'R':\n",
    "        dir = 3\n",
    "    \n",
    "    pre_loc[0] += x_aias[dir]\n",
    "    pre_loc[1] += y_aias[dir]\n",
    "    \n",
    "    # map을 벗어난 경우\n",
    "    if pre_loc[0] <= 0 or pre_loc[1] <= 0 or pre_loc[0] > n or pre_loc[1] > n:\n",
    "        pre_loc = cur_loc[:]\n",
    "    else:\n",
    "        cur_loc = pre_loc[:]\n",
    "\n",
    "\n",
    "print(cur_loc[0], cur_loc[1])"
   ]
  },
  {
   "cell_type": "markdown",
   "id": "reported-coffee",
   "metadata": {},
   "source": [
    "### 고칠 점\n",
    "- cmd에서 list로 감쌀 필요가 없었다.\n",
    "- map을 벗어난 경우에서 if문 안에서 리스트를 복사할 필요 없이 그냥 continue해서 아무 작업을 안해도 됐다.\n",
    "- 예시 답안처럼 move_types를 지정하면 if문으로 길어질 필요가 없음."
   ]
  },
  {
   "cell_type": "markdown",
   "id": "desperate-event",
   "metadata": {},
   "source": [
    "## 예시 답안"
   ]
  },
  {
   "cell_type": "code",
   "execution_count": 16,
   "id": "breeding-franklin",
   "metadata": {},
   "outputs": [
    {
     "name": "stdout",
     "output_type": "stream",
     "text": [
      "5\n",
      "R R R U D D\n",
      "3 4\n"
     ]
    }
   ],
   "source": [
    "n = int(input())\n",
    "x, y = 1, 1\n",
    "plans = input().split()\n",
    "\n",
    "# L, R, U, D\n",
    "dx = [0, 0, -1, 1]\n",
    "dy = [-1, 1, 0, 0]\n",
    "move_types = ['L', 'R', 'U', 'D']\n",
    "\n",
    "# 이동 계획을 하나씩 확인\n",
    "for plan in plans:\n",
    "    # 이동 후 좌표 구하기\n",
    "    for i in range(len(move_types)):\n",
    "        if plan == move_types[i]:\n",
    "            nx = x + dx[i]\n",
    "            ny = y + dy[i]\n",
    "    # 공간을 벗어나는 경우 무시\n",
    "    if nx < 1 or ny < 1 or nx > n or ny > n:\n",
    "        continue\n",
    "    \n",
    "    # 이동 수행\n",
    "    x, y = nx, ny\n",
    "    \n",
    "print(x, y)"
   ]
  },
  {
   "cell_type": "markdown",
   "id": "traditional-allergy",
   "metadata": {},
   "source": [
    "예시 답안의 경우 move_type을 지정하고 모든 move_types 경우의 수만큼 확인.\n",
    "\n",
    "x, y 를 리스트가 아닌 각각의 변수로 다룸."
   ]
  },
  {
   "cell_type": "code",
   "execution_count": null,
   "id": "specified-hampshire",
   "metadata": {},
   "outputs": [],
   "source": []
  }
 ],
 "metadata": {
  "kernelspec": {
   "display_name": "Python 3",
   "language": "python",
   "name": "python3"
  },
  "language_info": {
   "codemirror_mode": {
    "name": "ipython",
    "version": 3
   },
   "file_extension": ".py",
   "mimetype": "text/x-python",
   "name": "python",
   "nbconvert_exporter": "python",
   "pygments_lexer": "ipython3",
   "version": "3.8.5"
  }
 },
 "nbformat": 4,
 "nbformat_minor": 5
}
